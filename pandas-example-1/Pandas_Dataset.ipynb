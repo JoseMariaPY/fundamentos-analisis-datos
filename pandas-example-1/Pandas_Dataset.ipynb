{
  "nbformat": 4,
  "nbformat_minor": 0,
  "metadata": {
    "colab": {
      "provenance": []
    },
    "kernelspec": {
      "name": "python3",
      "display_name": "Python 3"
    },
    "language_info": {
      "name": "python"
    }
  },
  "cells": [
    {
      "cell_type": "code",
      "execution_count": null,
      "metadata": {
        "id": "ua3iKWCb68Zn"
      },
      "outputs": [],
      "source": [
        "# Ejemplo de Pandas y DataSet"
      ]
    },
    {
      "cell_type": "code",
      "source": [],
      "metadata": {
        "id": "61P-Ace3Vecl"
      },
      "execution_count": null,
      "outputs": []
    },
    {
      "cell_type": "code",
      "source": [
        "import pandas as pd\n",
        "import numpy as np"
      ],
      "metadata": {
        "id": "rfS8FOs18bbL"
      },
      "execution_count": 2,
      "outputs": []
    },
    {
      "cell_type": "code",
      "source": [
        "# URL directa al archivo CSV en el repositorio público\n",
        "url = \"https://raw.githubusercontent.com/JoseMariaPY/fundamentos-analisis-datos/master/pandas-example-1/Online_Retail.csv\"\n",
        "\n",
        "# Leer el archivo CSV directamente desde la URL\n",
        "df = pd.read_csv(url, encoding='latin1')\n",
        "\n",
        "# Mostrar las primeras filas del dataframe\n",
        "df.head()"
      ],
      "metadata": {
        "colab": {
          "base_uri": "https://localhost:8080/",
          "height": 206
        },
        "id": "T3H7ioc99RPY",
        "outputId": "7d43b656-4dee-4783-af3b-c33458bdc750"
      },
      "execution_count": 3,
      "outputs": [
        {
          "output_type": "execute_result",
          "data": {
            "text/plain": [
              "  InvoiceNo StockCode                          Description  Quantity  \\\n",
              "0    536365    85123A   WHITE HANGING HEART T-LIGHT HOLDER         6   \n",
              "1    536365     71053                  WHITE METAL LANTERN         6   \n",
              "2    536365    84406B       CREAM CUPID HEARTS COAT HANGER         8   \n",
              "3    536365    84029G  KNITTED UNION FLAG HOT WATER BOTTLE         6   \n",
              "4    536365    84029E       RED WOOLLY HOTTIE WHITE HEART.         6   \n",
              "\n",
              "    InvoiceDate  UnitPrice  CustomerID         Country  \n",
              "0  12/1/10 8:26       2.55     17850.0  United Kingdom  \n",
              "1  12/1/10 8:26       3.39     17850.0  United Kingdom  \n",
              "2  12/1/10 8:26       2.75     17850.0  United Kingdom  \n",
              "3  12/1/10 8:26       3.39     17850.0  United Kingdom  \n",
              "4  12/1/10 8:26       3.39     17850.0  United Kingdom  "
            ],
            "text/html": [
              "\n",
              "  <div id=\"df-6d58b3c1-b379-4840-9f20-73f087fbc96d\" class=\"colab-df-container\">\n",
              "    <div>\n",
              "<style scoped>\n",
              "    .dataframe tbody tr th:only-of-type {\n",
              "        vertical-align: middle;\n",
              "    }\n",
              "\n",
              "    .dataframe tbody tr th {\n",
              "        vertical-align: top;\n",
              "    }\n",
              "\n",
              "    .dataframe thead th {\n",
              "        text-align: right;\n",
              "    }\n",
              "</style>\n",
              "<table border=\"1\" class=\"dataframe\">\n",
              "  <thead>\n",
              "    <tr style=\"text-align: right;\">\n",
              "      <th></th>\n",
              "      <th>InvoiceNo</th>\n",
              "      <th>StockCode</th>\n",
              "      <th>Description</th>\n",
              "      <th>Quantity</th>\n",
              "      <th>InvoiceDate</th>\n",
              "      <th>UnitPrice</th>\n",
              "      <th>CustomerID</th>\n",
              "      <th>Country</th>\n",
              "    </tr>\n",
              "  </thead>\n",
              "  <tbody>\n",
              "    <tr>\n",
              "      <th>0</th>\n",
              "      <td>536365</td>\n",
              "      <td>85123A</td>\n",
              "      <td>WHITE HANGING HEART T-LIGHT HOLDER</td>\n",
              "      <td>6</td>\n",
              "      <td>12/1/10 8:26</td>\n",
              "      <td>2.55</td>\n",
              "      <td>17850.0</td>\n",
              "      <td>United Kingdom</td>\n",
              "    </tr>\n",
              "    <tr>\n",
              "      <th>1</th>\n",
              "      <td>536365</td>\n",
              "      <td>71053</td>\n",
              "      <td>WHITE METAL LANTERN</td>\n",
              "      <td>6</td>\n",
              "      <td>12/1/10 8:26</td>\n",
              "      <td>3.39</td>\n",
              "      <td>17850.0</td>\n",
              "      <td>United Kingdom</td>\n",
              "    </tr>\n",
              "    <tr>\n",
              "      <th>2</th>\n",
              "      <td>536365</td>\n",
              "      <td>84406B</td>\n",
              "      <td>CREAM CUPID HEARTS COAT HANGER</td>\n",
              "      <td>8</td>\n",
              "      <td>12/1/10 8:26</td>\n",
              "      <td>2.75</td>\n",
              "      <td>17850.0</td>\n",
              "      <td>United Kingdom</td>\n",
              "    </tr>\n",
              "    <tr>\n",
              "      <th>3</th>\n",
              "      <td>536365</td>\n",
              "      <td>84029G</td>\n",
              "      <td>KNITTED UNION FLAG HOT WATER BOTTLE</td>\n",
              "      <td>6</td>\n",
              "      <td>12/1/10 8:26</td>\n",
              "      <td>3.39</td>\n",
              "      <td>17850.0</td>\n",
              "      <td>United Kingdom</td>\n",
              "    </tr>\n",
              "    <tr>\n",
              "      <th>4</th>\n",
              "      <td>536365</td>\n",
              "      <td>84029E</td>\n",
              "      <td>RED WOOLLY HOTTIE WHITE HEART.</td>\n",
              "      <td>6</td>\n",
              "      <td>12/1/10 8:26</td>\n",
              "      <td>3.39</td>\n",
              "      <td>17850.0</td>\n",
              "      <td>United Kingdom</td>\n",
              "    </tr>\n",
              "  </tbody>\n",
              "</table>\n",
              "</div>\n",
              "    <div class=\"colab-df-buttons\">\n",
              "\n",
              "  <div class=\"colab-df-container\">\n",
              "    <button class=\"colab-df-convert\" onclick=\"convertToInteractive('df-6d58b3c1-b379-4840-9f20-73f087fbc96d')\"\n",
              "            title=\"Convert this dataframe to an interactive table.\"\n",
              "            style=\"display:none;\">\n",
              "\n",
              "  <svg xmlns=\"http://www.w3.org/2000/svg\" height=\"24px\" viewBox=\"0 -960 960 960\">\n",
              "    <path d=\"M120-120v-720h720v720H120Zm60-500h600v-160H180v160Zm220 220h160v-160H400v160Zm0 220h160v-160H400v160ZM180-400h160v-160H180v160Zm440 0h160v-160H620v160ZM180-180h160v-160H180v160Zm440 0h160v-160H620v160Z\"/>\n",
              "  </svg>\n",
              "    </button>\n",
              "\n",
              "  <style>\n",
              "    .colab-df-container {\n",
              "      display:flex;\n",
              "      gap: 12px;\n",
              "    }\n",
              "\n",
              "    .colab-df-convert {\n",
              "      background-color: #E8F0FE;\n",
              "      border: none;\n",
              "      border-radius: 50%;\n",
              "      cursor: pointer;\n",
              "      display: none;\n",
              "      fill: #1967D2;\n",
              "      height: 32px;\n",
              "      padding: 0 0 0 0;\n",
              "      width: 32px;\n",
              "    }\n",
              "\n",
              "    .colab-df-convert:hover {\n",
              "      background-color: #E2EBFA;\n",
              "      box-shadow: 0px 1px 2px rgba(60, 64, 67, 0.3), 0px 1px 3px 1px rgba(60, 64, 67, 0.15);\n",
              "      fill: #174EA6;\n",
              "    }\n",
              "\n",
              "    .colab-df-buttons div {\n",
              "      margin-bottom: 4px;\n",
              "    }\n",
              "\n",
              "    [theme=dark] .colab-df-convert {\n",
              "      background-color: #3B4455;\n",
              "      fill: #D2E3FC;\n",
              "    }\n",
              "\n",
              "    [theme=dark] .colab-df-convert:hover {\n",
              "      background-color: #434B5C;\n",
              "      box-shadow: 0px 1px 3px 1px rgba(0, 0, 0, 0.15);\n",
              "      filter: drop-shadow(0px 1px 2px rgba(0, 0, 0, 0.3));\n",
              "      fill: #FFFFFF;\n",
              "    }\n",
              "  </style>\n",
              "\n",
              "    <script>\n",
              "      const buttonEl =\n",
              "        document.querySelector('#df-6d58b3c1-b379-4840-9f20-73f087fbc96d button.colab-df-convert');\n",
              "      buttonEl.style.display =\n",
              "        google.colab.kernel.accessAllowed ? 'block' : 'none';\n",
              "\n",
              "      async function convertToInteractive(key) {\n",
              "        const element = document.querySelector('#df-6d58b3c1-b379-4840-9f20-73f087fbc96d');\n",
              "        const dataTable =\n",
              "          await google.colab.kernel.invokeFunction('convertToInteractive',\n",
              "                                                    [key], {});\n",
              "        if (!dataTable) return;\n",
              "\n",
              "        const docLinkHtml = 'Like what you see? Visit the ' +\n",
              "          '<a target=\"_blank\" href=https://colab.research.google.com/notebooks/data_table.ipynb>data table notebook</a>'\n",
              "          + ' to learn more about interactive tables.';\n",
              "        element.innerHTML = '';\n",
              "        dataTable['output_type'] = 'display_data';\n",
              "        await google.colab.output.renderOutput(dataTable, element);\n",
              "        const docLink = document.createElement('div');\n",
              "        docLink.innerHTML = docLinkHtml;\n",
              "        element.appendChild(docLink);\n",
              "      }\n",
              "    </script>\n",
              "  </div>\n",
              "\n",
              "\n",
              "<div id=\"df-ac92cc7c-cab1-4340-97aa-17c94baf8cf1\">\n",
              "  <button class=\"colab-df-quickchart\" onclick=\"quickchart('df-ac92cc7c-cab1-4340-97aa-17c94baf8cf1')\"\n",
              "            title=\"Suggest charts\"\n",
              "            style=\"display:none;\">\n",
              "\n",
              "<svg xmlns=\"http://www.w3.org/2000/svg\" height=\"24px\"viewBox=\"0 0 24 24\"\n",
              "     width=\"24px\">\n",
              "    <g>\n",
              "        <path d=\"M19 3H5c-1.1 0-2 .9-2 2v14c0 1.1.9 2 2 2h14c1.1 0 2-.9 2-2V5c0-1.1-.9-2-2-2zM9 17H7v-7h2v7zm4 0h-2V7h2v10zm4 0h-2v-4h2v4z\"/>\n",
              "    </g>\n",
              "</svg>\n",
              "  </button>\n",
              "\n",
              "<style>\n",
              "  .colab-df-quickchart {\n",
              "      --bg-color: #E8F0FE;\n",
              "      --fill-color: #1967D2;\n",
              "      --hover-bg-color: #E2EBFA;\n",
              "      --hover-fill-color: #174EA6;\n",
              "      --disabled-fill-color: #AAA;\n",
              "      --disabled-bg-color: #DDD;\n",
              "  }\n",
              "\n",
              "  [theme=dark] .colab-df-quickchart {\n",
              "      --bg-color: #3B4455;\n",
              "      --fill-color: #D2E3FC;\n",
              "      --hover-bg-color: #434B5C;\n",
              "      --hover-fill-color: #FFFFFF;\n",
              "      --disabled-bg-color: #3B4455;\n",
              "      --disabled-fill-color: #666;\n",
              "  }\n",
              "\n",
              "  .colab-df-quickchart {\n",
              "    background-color: var(--bg-color);\n",
              "    border: none;\n",
              "    border-radius: 50%;\n",
              "    cursor: pointer;\n",
              "    display: none;\n",
              "    fill: var(--fill-color);\n",
              "    height: 32px;\n",
              "    padding: 0;\n",
              "    width: 32px;\n",
              "  }\n",
              "\n",
              "  .colab-df-quickchart:hover {\n",
              "    background-color: var(--hover-bg-color);\n",
              "    box-shadow: 0 1px 2px rgba(60, 64, 67, 0.3), 0 1px 3px 1px rgba(60, 64, 67, 0.15);\n",
              "    fill: var(--button-hover-fill-color);\n",
              "  }\n",
              "\n",
              "  .colab-df-quickchart-complete:disabled,\n",
              "  .colab-df-quickchart-complete:disabled:hover {\n",
              "    background-color: var(--disabled-bg-color);\n",
              "    fill: var(--disabled-fill-color);\n",
              "    box-shadow: none;\n",
              "  }\n",
              "\n",
              "  .colab-df-spinner {\n",
              "    border: 2px solid var(--fill-color);\n",
              "    border-color: transparent;\n",
              "    border-bottom-color: var(--fill-color);\n",
              "    animation:\n",
              "      spin 1s steps(1) infinite;\n",
              "  }\n",
              "\n",
              "  @keyframes spin {\n",
              "    0% {\n",
              "      border-color: transparent;\n",
              "      border-bottom-color: var(--fill-color);\n",
              "      border-left-color: var(--fill-color);\n",
              "    }\n",
              "    20% {\n",
              "      border-color: transparent;\n",
              "      border-left-color: var(--fill-color);\n",
              "      border-top-color: var(--fill-color);\n",
              "    }\n",
              "    30% {\n",
              "      border-color: transparent;\n",
              "      border-left-color: var(--fill-color);\n",
              "      border-top-color: var(--fill-color);\n",
              "      border-right-color: var(--fill-color);\n",
              "    }\n",
              "    40% {\n",
              "      border-color: transparent;\n",
              "      border-right-color: var(--fill-color);\n",
              "      border-top-color: var(--fill-color);\n",
              "    }\n",
              "    60% {\n",
              "      border-color: transparent;\n",
              "      border-right-color: var(--fill-color);\n",
              "    }\n",
              "    80% {\n",
              "      border-color: transparent;\n",
              "      border-right-color: var(--fill-color);\n",
              "      border-bottom-color: var(--fill-color);\n",
              "    }\n",
              "    90% {\n",
              "      border-color: transparent;\n",
              "      border-bottom-color: var(--fill-color);\n",
              "    }\n",
              "  }\n",
              "</style>\n",
              "\n",
              "  <script>\n",
              "    async function quickchart(key) {\n",
              "      const quickchartButtonEl =\n",
              "        document.querySelector('#' + key + ' button');\n",
              "      quickchartButtonEl.disabled = true;  // To prevent multiple clicks.\n",
              "      quickchartButtonEl.classList.add('colab-df-spinner');\n",
              "      try {\n",
              "        const charts = await google.colab.kernel.invokeFunction(\n",
              "            'suggestCharts', [key], {});\n",
              "      } catch (error) {\n",
              "        console.error('Error during call to suggestCharts:', error);\n",
              "      }\n",
              "      quickchartButtonEl.classList.remove('colab-df-spinner');\n",
              "      quickchartButtonEl.classList.add('colab-df-quickchart-complete');\n",
              "    }\n",
              "    (() => {\n",
              "      let quickchartButtonEl =\n",
              "        document.querySelector('#df-ac92cc7c-cab1-4340-97aa-17c94baf8cf1 button');\n",
              "      quickchartButtonEl.style.display =\n",
              "        google.colab.kernel.accessAllowed ? 'block' : 'none';\n",
              "    })();\n",
              "  </script>\n",
              "</div>\n",
              "\n",
              "    </div>\n",
              "  </div>\n"
            ],
            "application/vnd.google.colaboratory.intrinsic+json": {
              "type": "dataframe",
              "variable_name": "df"
            }
          },
          "metadata": {},
          "execution_count": 3
        }
      ]
    },
    {
      "cell_type": "code",
      "source": [
        "data = np.array([[1,2,3], [4,5,6],[7,8,9]])\n",
        "df_from_array = pd.DataFrame(data, columns=['A','B','C'])\n",
        "print(df_from_array)"
      ],
      "metadata": {
        "colab": {
          "base_uri": "https://localhost:8080/"
        },
        "id": "TvxIyzl3BGwP",
        "outputId": "123c0e4c-4e64-4a6e-cca3-308581433ea0"
      },
      "execution_count": null,
      "outputs": [
        {
          "output_type": "stream",
          "name": "stdout",
          "text": [
            "   A  B  C\n",
            "0  1  2  3\n",
            "1  4  5  6\n",
            "2  7  8  9\n"
          ]
        }
      ]
    },
    {
      "cell_type": "code",
      "source": [
        "data = [[1,'carlos',3], [4,'juan',6],[7,'Jose',9]]\n",
        "df_from_list = pd.DataFrame(data, columns=['ID','NOMBRE','EDAD'])\n",
        "print(df_from_list)"
      ],
      "metadata": {
        "colab": {
          "base_uri": "https://localhost:8080/"
        },
        "id": "-eTj6ajTDOVC",
        "outputId": "b0734f13-7eb1-49b3-d448-5ad24a92cf8b"
      },
      "execution_count": null,
      "outputs": [
        {
          "output_type": "stream",
          "name": "stdout",
          "text": [
            "   ID  NOMBRE  EDAD\n",
            "0   1  carlos     3\n",
            "1   4    juan     6\n",
            "2   7    Jose     9\n"
          ]
        }
      ]
    },
    {
      "cell_type": "code",
      "source": [
        "data_dict ={'id':[1,2,3], 'nombre': ['maria', 'mirtha', 'elizabeth'], 'edad':[30, 20, 18] }\n",
        "df_dict = pd.DataFrame(data_dict)\n",
        "print(df_dict)"
      ],
      "metadata": {
        "colab": {
          "base_uri": "https://localhost:8080/"
        },
        "id": "3GW_OMgzEHxr",
        "outputId": "d6dd379b-423a-4683-da3d-c182040ac64e"
      },
      "execution_count": null,
      "outputs": [
        {
          "output_type": "stream",
          "name": "stdout",
          "text": [
            "   id     nombre  edad\n",
            "0   1      maria    30\n",
            "1   2     mirtha    20\n",
            "2   3  elizabeth    18\n"
          ]
        }
      ]
    },
    {
      "cell_type": "code",
      "source": [
        "data_series ={\n",
        "    'id':pd.Series([1,2,3]),\n",
        "    'nombre': pd.Series(['maria', 'mirtha', 'elizabeth']),\n",
        "    'edad': pd.Series([30, 20, 18])\n",
        "}\n",
        "df_series_dict = pd.DataFrame(data_series)\n",
        "print(df_series_dict)"
      ],
      "metadata": {
        "colab": {
          "base_uri": "https://localhost:8080/"
        },
        "id": "gLO5t8nEE-1F",
        "outputId": "6875d0f1-58b7-464b-ef1b-d42311460d28"
      },
      "execution_count": null,
      "outputs": [
        {
          "output_type": "stream",
          "name": "stdout",
          "text": [
            "   id     nombre  edad\n",
            "0   1      maria    30\n",
            "1   2     mirtha    20\n",
            "2   3  elizabeth    18\n"
          ]
        }
      ]
    },
    {
      "cell_type": "code",
      "source": [
        "# ver las columnas\n",
        "columnas=df.columns\n",
        "num_rows, num_columns = df.shape\n",
        "print(columnas)\n",
        "print(f'Número de filas {num_rows} y el número de columnas es {num_columns} ')"
      ],
      "metadata": {
        "colab": {
          "base_uri": "https://localhost:8080/"
        },
        "id": "Zqun7NGIGIoB",
        "outputId": "f1658fd2-e66c-4b78-915d-92029288aec0"
      },
      "execution_count": null,
      "outputs": [
        {
          "output_type": "stream",
          "name": "stdout",
          "text": [
            "Index(['InvoiceNo', 'StockCode', 'Description', 'Quantity', 'InvoiceDate',\n",
            "       'UnitPrice', 'CustomerID', 'Country'],\n",
            "      dtype='object')\n",
            "Número de filas 541909 y el número de columnas es 8 \n"
          ]
        }
      ]
    },
    {
      "cell_type": "code",
      "source": [
        "summary = df.describe()\n",
        "print(summary)"
      ],
      "metadata": {
        "colab": {
          "base_uri": "https://localhost:8080/"
        },
        "id": "RTykEhujIIuf",
        "outputId": "082c6eb6-056c-49c4-cc27-e168e3595eac"
      },
      "execution_count": null,
      "outputs": [
        {
          "output_type": "stream",
          "name": "stdout",
          "text": [
            "            Quantity      UnitPrice     CustomerID\n",
            "count  541909.000000  541909.000000  406829.000000\n",
            "mean        9.552250       4.611114   15287.690570\n",
            "std       218.081158      96.759853    1713.600303\n",
            "min    -80995.000000  -11062.060000   12346.000000\n",
            "25%         1.000000       1.250000   13953.000000\n",
            "50%         3.000000       2.080000   15152.000000\n",
            "75%        10.000000       4.130000   16791.000000\n",
            "max     80995.000000   38970.000000   18287.000000\n"
          ]
        }
      ]
    },
    {
      "cell_type": "code",
      "source": [
        "print(summary.mean())"
      ],
      "metadata": {
        "colab": {
          "base_uri": "https://localhost:8080/"
        },
        "id": "QoNOkPtTNRVc",
        "outputId": "345b1621-2dc2-49a9-d816-8154dfc7c8fa"
      },
      "execution_count": null,
      "outputs": [
        {
          "output_type": "stream",
          "name": "stdout",
          "text": [
            "Quantity      67768.829176\n",
            "UnitPrice     71240.721371\n",
            "CustomerID    62544.911359\n",
            "dtype: float64\n"
          ]
        }
      ]
    },
    {
      "cell_type": "code",
      "source": [
        "# iloc : obtener una posicion o fila\n",
        "first_row = df.iloc[0]\n",
        "print(first_row)"
      ],
      "metadata": {
        "colab": {
          "base_uri": "https://localhost:8080/"
        },
        "id": "Rh8tKAQOQMOI",
        "outputId": "8e99f40d-d0f3-40c9-b98a-65bef3b8484c"
      },
      "execution_count": null,
      "outputs": [
        {
          "output_type": "stream",
          "name": "stdout",
          "text": [
            "InvoiceNo                                  536365\n",
            "StockCode                                  85123A\n",
            "Description    WHITE HANGING HEART T-LIGHT HOLDER\n",
            "Quantity                                        6\n",
            "InvoiceDate                          12/1/10 8:26\n",
            "UnitPrice                                    2.55\n",
            "CustomerID                                17850.0\n",
            "Country                            United Kingdom\n",
            "Name: 0, dtype: object\n"
          ]
        }
      ]
    },
    {
      "cell_type": "code",
      "source": [
        "first_five_row = df.iloc[:5]\n",
        "print(first_five_row)"
      ],
      "metadata": {
        "colab": {
          "base_uri": "https://localhost:8080/"
        },
        "id": "EbKlhnooQeMm",
        "outputId": "7d92ec4f-e9ec-464c-c7e8-c3d24d3cf8b4"
      },
      "execution_count": null,
      "outputs": [
        {
          "output_type": "stream",
          "name": "stdout",
          "text": [
            "  InvoiceNo StockCode                          Description  Quantity  \\\n",
            "0    536365    85123A   WHITE HANGING HEART T-LIGHT HOLDER         6   \n",
            "1    536365     71053                  WHITE METAL LANTERN         6   \n",
            "2    536365    84406B       CREAM CUPID HEARTS COAT HANGER         8   \n",
            "3    536365    84029G  KNITTED UNION FLAG HOT WATER BOTTLE         6   \n",
            "4    536365    84029E       RED WOOLLY HOTTIE WHITE HEART.         6   \n",
            "\n",
            "    InvoiceDate  UnitPrice  CustomerID         Country  \n",
            "0  12/1/10 8:26       2.55     17850.0  United Kingdom  \n",
            "1  12/1/10 8:26       3.39     17850.0  United Kingdom  \n",
            "2  12/1/10 8:26       2.75     17850.0  United Kingdom  \n",
            "3  12/1/10 8:26       3.39     17850.0  United Kingdom  \n",
            "4  12/1/10 8:26       3.39     17850.0  United Kingdom  \n"
          ]
        }
      ]
    },
    {
      "cell_type": "code",
      "source": [
        "detail = df.iloc[:5, :2]\n",
        "print(detail)"
      ],
      "metadata": {
        "colab": {
          "base_uri": "https://localhost:8080/"
        },
        "id": "-zkAIXYqREHc",
        "outputId": "c38af480-4ca4-4987-b405-454a6a637869"
      },
      "execution_count": null,
      "outputs": [
        {
          "output_type": "stream",
          "name": "stdout",
          "text": [
            "  InvoiceNo StockCode\n",
            "0    536365    85123A\n",
            "1    536365     71053\n",
            "2    536365    84406B\n",
            "3    536365    84029G\n",
            "4    536365    84029E\n"
          ]
        }
      ]
    },
    {
      "cell_type": "code",
      "source": [
        "# usando loc\n",
        "price_detail = df.loc[:5, ['Quantity', 'UnitPrice']]\n",
        "print(price_detail)"
      ],
      "metadata": {
        "colab": {
          "base_uri": "https://localhost:8080/"
        },
        "id": "-c4W14OPRtES",
        "outputId": "bde3719c-3121-48ec-93d5-85b8965a94e7"
      },
      "execution_count": null,
      "outputs": [
        {
          "output_type": "stream",
          "name": "stdout",
          "text": [
            "   Quantity  UnitPrice\n",
            "0         6       2.55\n",
            "1         6       3.39\n",
            "2         8       2.75\n",
            "3         6       3.39\n",
            "4         6       3.39\n",
            "5         2       7.65\n"
          ]
        }
      ]
    },
    {
      "cell_type": "code",
      "source": [
        "# Datos Faltantes\n",
        "datos_faltantes = df.isna()\n",
        "cant_faltantes = df.isna().sum()\n",
        "print(f'Cantidad de datos faltantes: {cant_faltantes}')\n",
        "# llenaremos los datos faltantes con ceros\n",
        "data_fillet_zeros = df.fillna(0)\n",
        "# consultamos la cantidad de datos faltantes si existen por columnas\n",
        "count_data_fillet_zeros = data_fillet_zeros.isna().sum()\n",
        "print(f'Cantidadd de datos faltantes ahora: {count_data_fillet_zeros}')"
      ],
      "metadata": {
        "colab": {
          "base_uri": "https://localhost:8080/"
        },
        "id": "VfQumtvVVgjj",
        "outputId": "b4e9c7d5-0838-44ec-b368-a6bcc5d9fd81"
      },
      "execution_count": 6,
      "outputs": [
        {
          "output_type": "stream",
          "name": "stdout",
          "text": [
            "Cantidad de datos faltantes: InvoiceNo           0\n",
            "StockCode           0\n",
            "Description      1454\n",
            "Quantity            0\n",
            "InvoiceDate         0\n",
            "UnitPrice           0\n",
            "CustomerID     135080\n",
            "Country             0\n",
            "dtype: int64\n",
            "Cantidadd de datos faltantes ahora: InvoiceNo      0\n",
            "StockCode      0\n",
            "Description    0\n",
            "Quantity       0\n",
            "InvoiceDate    0\n",
            "UnitPrice      0\n",
            "CustomerID     0\n",
            "Country        0\n",
            "dtype: int64\n"
          ]
        }
      ]
    },
    {
      "cell_type": "code",
      "source": [
        "# llenando con la media los datos faltantes\n",
        "unit_price_mean = df['UnitPrice'].mean()\n",
        "print(f'Media de UnitPrice: {unit_price_mean}')\n",
        "data_filled_mean = df['UnitPrice'].fillna(unit_price_mean)\n",
        "print(data_filled_mean)"
      ],
      "metadata": {
        "colab": {
          "base_uri": "https://localhost:8080/"
        },
        "id": "txZbp548Y6T3",
        "outputId": "7ed48d37-a6c9-4195-a078-2bb19b7d0d06"
      },
      "execution_count": 8,
      "outputs": [
        {
          "output_type": "stream",
          "name": "stdout",
          "text": [
            "Media de UnitPrice: 4.611113626088513\n",
            "0         2.55\n",
            "1         3.39\n",
            "2         2.75\n",
            "3         3.39\n",
            "4         3.39\n",
            "          ... \n",
            "541904    0.85\n",
            "541905    2.10\n",
            "541906    4.15\n",
            "541907    4.15\n",
            "541908    4.95\n",
            "Name: UnitPrice, Length: 541909, dtype: float64\n"
          ]
        }
      ]
    },
    {
      "cell_type": "code",
      "source": [
        "df['TotalPrice'] = df['UnitPrice'] * df['Quantity']\n",
        "print(df.head())"
      ],
      "metadata": {
        "colab": {
          "base_uri": "https://localhost:8080/"
        },
        "id": "rCfldYDZaRSb",
        "outputId": "b6b727fe-7804-48c5-8b2c-0d40d9b64436"
      },
      "execution_count": 9,
      "outputs": [
        {
          "output_type": "stream",
          "name": "stdout",
          "text": [
            "  InvoiceNo StockCode                          Description  Quantity  \\\n",
            "0    536365    85123A   WHITE HANGING HEART T-LIGHT HOLDER         6   \n",
            "1    536365     71053                  WHITE METAL LANTERN         6   \n",
            "2    536365    84406B       CREAM CUPID HEARTS COAT HANGER         8   \n",
            "3    536365    84029G  KNITTED UNION FLAG HOT WATER BOTTLE         6   \n",
            "4    536365    84029E       RED WOOLLY HOTTIE WHITE HEART.         6   \n",
            "\n",
            "    InvoiceDate  UnitPrice  CustomerID         Country  TotalPrice  \n",
            "0  12/1/10 8:26       2.55     17850.0  United Kingdom       15.30  \n",
            "1  12/1/10 8:26       3.39     17850.0  United Kingdom       20.34  \n",
            "2  12/1/10 8:26       2.75     17850.0  United Kingdom       22.00  \n",
            "3  12/1/10 8:26       3.39     17850.0  United Kingdom       20.34  \n",
            "4  12/1/10 8:26       3.39     17850.0  United Kingdom       20.34  \n"
          ]
        }
      ]
    },
    {
      "cell_type": "code",
      "source": [
        "# convertir el invoicedate a fecha\n",
        "print(df.info())\n",
        "df['InvoiceDate'] = pd.to_datetime(df['InvoiceDate'])\n",
        "print(df.info())"
      ],
      "metadata": {
        "colab": {
          "base_uri": "https://localhost:8080/"
        },
        "id": "BbTnnszXbCqT",
        "outputId": "8a31b32d-393a-4620-accc-1f97a4cf30b7"
      },
      "execution_count": 10,
      "outputs": [
        {
          "output_type": "stream",
          "name": "stdout",
          "text": [
            "<class 'pandas.core.frame.DataFrame'>\n",
            "RangeIndex: 541909 entries, 0 to 541908\n",
            "Data columns (total 9 columns):\n",
            " #   Column       Non-Null Count   Dtype  \n",
            "---  ------       --------------   -----  \n",
            " 0   InvoiceNo    541909 non-null  object \n",
            " 1   StockCode    541909 non-null  object \n",
            " 2   Description  540455 non-null  object \n",
            " 3   Quantity     541909 non-null  int64  \n",
            " 4   InvoiceDate  541909 non-null  object \n",
            " 5   UnitPrice    541909 non-null  float64\n",
            " 6   CustomerID   406829 non-null  float64\n",
            " 7   Country      541909 non-null  object \n",
            " 8   TotalPrice   541909 non-null  float64\n",
            "dtypes: float64(3), int64(1), object(5)\n",
            "memory usage: 37.2+ MB\n",
            "None\n"
          ]
        },
        {
          "output_type": "stream",
          "name": "stderr",
          "text": [
            "<ipython-input-10-ab3a64266eb2>:3: UserWarning: Could not infer format, so each element will be parsed individually, falling back to `dateutil`. To ensure parsing is consistent and as-expected, please specify a format.\n",
            "  df['InvoiceDate'] = pd.to_datetime(df['InvoiceDate'])\n"
          ]
        },
        {
          "output_type": "stream",
          "name": "stdout",
          "text": [
            "<class 'pandas.core.frame.DataFrame'>\n",
            "RangeIndex: 541909 entries, 0 to 541908\n",
            "Data columns (total 9 columns):\n",
            " #   Column       Non-Null Count   Dtype         \n",
            "---  ------       --------------   -----         \n",
            " 0   InvoiceNo    541909 non-null  object        \n",
            " 1   StockCode    541909 non-null  object        \n",
            " 2   Description  540455 non-null  object        \n",
            " 3   Quantity     541909 non-null  int64         \n",
            " 4   InvoiceDate  541909 non-null  datetime64[ns]\n",
            " 5   UnitPrice    541909 non-null  float64       \n",
            " 6   CustomerID   406829 non-null  float64       \n",
            " 7   Country      541909 non-null  object        \n",
            " 8   TotalPrice   541909 non-null  float64       \n",
            "dtypes: datetime64[ns](1), float64(3), int64(1), object(4)\n",
            "memory usage: 37.2+ MB\n",
            "None\n"
          ]
        }
      ]
    },
    {
      "cell_type": "code",
      "source": [
        "df['DiscountedPrice'] = df['UnitPrice'].apply(lambda x: x* 0.9)\n",
        "print(df.head(3))"
      ],
      "metadata": {
        "colab": {
          "base_uri": "https://localhost:8080/"
        },
        "id": "5PxtP1C_bxUN",
        "outputId": "0418cc38-f78f-4dd1-d95e-24f13e5897b7"
      },
      "execution_count": 11,
      "outputs": [
        {
          "output_type": "stream",
          "name": "stdout",
          "text": [
            "  InvoiceNo StockCode                         Description  Quantity  \\\n",
            "0    536365    85123A  WHITE HANGING HEART T-LIGHT HOLDER         6   \n",
            "1    536365     71053                 WHITE METAL LANTERN         6   \n",
            "2    536365    84406B      CREAM CUPID HEARTS COAT HANGER         8   \n",
            "\n",
            "          InvoiceDate  UnitPrice  CustomerID         Country  TotalPrice  \\\n",
            "0 2010-12-01 08:26:00       2.55     17850.0  United Kingdom       15.30   \n",
            "1 2010-12-01 08:26:00       3.39     17850.0  United Kingdom       20.34   \n",
            "2 2010-12-01 08:26:00       2.75     17850.0  United Kingdom       22.00   \n",
            "\n",
            "   DiscountedPrice  \n",
            "0            2.295  \n",
            "1            3.051  \n",
            "2            2.475  \n"
          ]
        }
      ]
    },
    {
      "cell_type": "code",
      "source": [
        "# groupby\n",
        "country_count = df['Country'].value_counts()\n",
        "#print(country_count)\n",
        "# agrupar por paises y traer la sumatoria de la cantidad\n",
        "country_quantity = df.groupby('Country')['Quantity'].sum()\n",
        "print(country_quantity)"
      ],
      "metadata": {
        "colab": {
          "base_uri": "https://localhost:8080/"
        },
        "id": "pXG1gSU1c8hp",
        "outputId": "071b5c9c-17d7-4ad1-f201-fef6fbeaa741"
      },
      "execution_count": 16,
      "outputs": [
        {
          "output_type": "stream",
          "name": "stdout",
          "text": [
            "Country\n",
            "Australia                 83653\n",
            "Austria                    4827\n",
            "Bahrain                     260\n",
            "Belgium                   23152\n",
            "Brazil                      356\n",
            "Canada                     2763\n",
            "Channel Islands            9479\n",
            "Cyprus                     6317\n",
            "Czech Republic              592\n",
            "Denmark                    8188\n",
            "EIRE                     142637\n",
            "European Community          497\n",
            "Finland                   10666\n",
            "France                   110480\n",
            "Germany                  117448\n",
            "Greece                     1556\n",
            "Hong Kong                  4769\n",
            "Iceland                    2458\n",
            "Israel                     4353\n",
            "Italy                      7999\n",
            "Japan                     25218\n",
            "Lebanon                     386\n",
            "Lithuania                   652\n",
            "Malta                       944\n",
            "Netherlands              200128\n",
            "Norway                    19247\n",
            "Poland                     3653\n",
            "Portugal                  16180\n",
            "RSA                         352\n",
            "Saudi Arabia                 75\n",
            "Singapore                  5234\n",
            "Spain                     26824\n",
            "Sweden                    35637\n",
            "Switzerland               30325\n",
            "USA                        1034\n",
            "United Arab Emirates        982\n",
            "United Kingdom          4263829\n",
            "Unspecified                3300\n",
            "Name: Quantity, dtype: int64\n"
          ]
        }
      ]
    },
    {
      "cell_type": "code",
      "source": [
        "country_stock_group = df.groupby(['Country','StockCode'])['Quantity'].sum()\n",
        "print(country_stock_group)"
      ],
      "metadata": {
        "colab": {
          "base_uri": "https://localhost:8080/"
        },
        "id": "961sQfHQejW8",
        "outputId": "c6284ec3-c08f-4ccc-941e-7caf30e05c31"
      },
      "execution_count": 19,
      "outputs": [
        {
          "output_type": "stream",
          "name": "stdout",
          "text": [
            "Country      StockCode\n",
            "Australia    15036        600\n",
            "             15056BL        3\n",
            "             16161P       400\n",
            "             16169E        25\n",
            "             20665          6\n",
            "                         ... \n",
            "Unspecified  85180A         2\n",
            "             85180B         1\n",
            "             85212         12\n",
            "             85213         12\n",
            "             85227         10\n",
            "Name: Quantity, Length: 19839, dtype: int64\n"
          ]
        }
      ]
    },
    {
      "cell_type": "code",
      "source": [
        "def total_revenue(group):\n",
        "  return (group['Quantity']*group['UnitPrice']).sum()\n",
        "\n",
        "revenue_per_country = df.groupby('Country').apply(total_revenue)\n",
        "\n",
        "#print('Total por pais')\n",
        "#print(revenue_per_country)\n",
        "\n",
        "revenue_per_country = revenue_per_country.reset_index(name='TotalRevenue')\n",
        "revenue_per_country_sorted = revenue_per_country.sort_values(by='TotalRevenue', ascending=True)\n",
        "print('Ordenado ascendente')\n",
        "print(revenue_per_country_sorted)\n",
        "print(\"Países con las peores ventas: \", revenue_per_country_sorted.head(3))\n",
        "print(\"Países con las peores ventas: \", revenue_per_country_sorted.tail(3))"
      ],
      "metadata": {
        "colab": {
          "base_uri": "https://localhost:8080/"
        },
        "id": "vJ6ukmRnhPn4",
        "outputId": "432e1937-0a97-45ac-9ac6-4a1f6ff23645"
      },
      "execution_count": 23,
      "outputs": [
        {
          "output_type": "stream",
          "name": "stdout",
          "text": [
            "Ordenado ascendente\n",
            "                 Country  TotalRevenue\n",
            "29          Saudi Arabia       131.170\n",
            "2                Bahrain       548.400\n",
            "8         Czech Republic       707.720\n",
            "28                   RSA      1002.310\n",
            "4                 Brazil      1143.600\n",
            "11    European Community      1291.750\n",
            "22             Lithuania      1661.060\n",
            "21               Lebanon      1693.880\n",
            "34                   USA      1730.920\n",
            "35  United Arab Emirates      1902.280\n",
            "23                 Malta      2505.470\n",
            "5                 Canada      3666.380\n",
            "17               Iceland      4310.000\n",
            "15                Greece      4710.520\n",
            "37           Unspecified      4749.790\n",
            "26                Poland      7213.140\n",
            "18                Israel      7907.820\n",
            "30             Singapore      9120.390\n",
            "16             Hong Kong     10117.040\n",
            "1                Austria     10154.320\n",
            "7                 Cyprus     12946.290\n",
            "19                 Italy     16890.510\n",
            "9                Denmark     18768.140\n",
            "6        Channel Islands     20086.290\n",
            "12               Finland     22326.740\n",
            "27              Portugal     29367.020\n",
            "25                Norway     35163.460\n",
            "20                 Japan     35340.620\n",
            "32                Sweden     36595.910\n",
            "3                Belgium     40910.960\n",
            "31                 Spain     54774.580\n",
            "33           Switzerland     56385.350\n",
            "0              Australia    137077.270\n",
            "13                France    197403.900\n",
            "14               Germany    221698.210\n",
            "10                  EIRE    263276.820\n",
            "24           Netherlands    284661.540\n",
            "36        United Kingdom   8187806.364\n",
            "Países con las peores ventas:             Country  TotalRevenue\n",
            "29    Saudi Arabia        131.17\n",
            "2          Bahrain        548.40\n",
            "8   Czech Republic        707.72\n",
            "Países con las peores ventas:             Country  TotalRevenue\n",
            "10            EIRE    263276.820\n",
            "24     Netherlands    284661.540\n",
            "36  United Kingdom   8187806.364\n"
          ]
        }
      ]
    }
  ]
}